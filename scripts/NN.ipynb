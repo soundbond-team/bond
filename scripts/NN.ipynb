{
 "cells": [
  {
   "cell_type": "code",
   "execution_count": null,
   "metadata": {},
   "outputs": [],
   "source": [
    "import random\n",
    "import json\n",
    "import pandas as pd\n",
    "import numpy as np\n",
    "import tensorflow\n",
    "from sklearn.model_selection import train_test_split\n",
    "from keras.models import Sequential\n",
    "from keras.layers import Dense, Dropout\n",
    "\n",
    "from numpy.random import seed\n",
    "\n",
    "#data preprocessing for NN\n",
    "data = pd.read_json('../data/accountData_clean.json')\n",
    "\n",
    "X_train = data[pd.notnull(data['isFake'])].drop(['isFake'],axis=1)\n",
    "y_train= data[pd.notnull(data['isFake'])]['isFake']\n",
    "X_test = data[pd.isnull(data['isFake'])].drop(['isFake'],axis=1)\n",
    "\n",
    "def NN_Training(lyrs=[8], act='linear', opt='Adam', dr=0.0):\n",
    "\n",
    "\n",
    "    #data preprocessing\n",
    "   \n",
    "\n",
    "      # set random seed for reproducibility\n",
    "    seed(42)\n",
    "    tensorflow.random.set_seed(42)\n",
    "    \n",
    "    model = Sequential()\n",
    "    \n",
    "    # create first hidden layer\n",
    "    model.add(Dense(lyrs[0], input_dim=X_train.shape[1], activation=act))\n",
    "    \n",
    "    # create additional hidden layers\n",
    "    for i in range(1,len(lyrs)):\n",
    "        model.add(Dense(lyrs[i], activation=act))\n",
    "    \n",
    "    # add dropout, default is none\n",
    "    model.add(Dropout(dr))\n",
    "    \n",
    "    # create output layer\n",
    "    model.add(Dense(1, activation='sigmoid'))  # output layer\n",
    "    \n",
    "    model.compile(loss='binary_crossentropy', optimizer=opt, metrics=['accuracy'])\n",
    "    \n",
    "    print(model.summary())\n",
    "\n",
    "    # fit the model\n",
    "    training = model.fit(X_train, y_train, epochs=100, batch_size=32, validation_split=0.2, verbose=0)\n",
    "    #print(training.history)\n",
    "    val_acc = np.mean(training.history['val_accuracy'])\n",
    "    print(\"\\n%s: %.2f%%\" % ('val_accuracy', val_acc*100))\n",
    "\n",
    "    # evaluate the model\n",
    "    scores = model.evaluate(X_train, y_train)\n",
    "    print(\"\\n%s: %.2f%%\" % (model.metrics_names[1], scores[1]*100))\n",
    "\n",
    "    # make  predictions on test set\n",
    "    #test['isFake'] = model.predict(X_test)\n",
    "    #test['isFake'] = test['isFake'].apply(lambda x: round(x,0)).a\n",
    "    #test['isFake'] = test['isFake'].astype(int)\n",
    "\n",
    "    #solution(test[['id','isFake']])\n",
    "\n",
    "NN_Training()"
   ]
  }
 ],
 "metadata": {
  "kernelspec": {
   "display_name": "Python 3",
   "language": "python",
   "name": "python3"
  },
  "language_info": {
   "name": "python",
   "version": "3.9.7 (tags/v3.9.7:1016ef3, Aug 30 2021, 20:19:38) [MSC v.1929 64 bit (AMD64)]"
  },
  "orig_nbformat": 4,
  "vscode": {
   "interpreter": {
    "hash": "81794d4967e6c3204c66dcd87b604927b115b27c00565d3d43f05ba2f3a2cb0d"
   }
  }
 },
 "nbformat": 4,
 "nbformat_minor": 2
}
